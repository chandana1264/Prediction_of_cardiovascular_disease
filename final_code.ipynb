{
 "cells": [
  {
   "cell_type": "code",
   "execution_count": null,
   "metadata": {
    "_kg_hide-input": true,
    "execution": {
     "iopub.execute_input": "2020-09-05T11:56:04.045413Z",
     "iopub.status.busy": "2020-09-05T11:56:04.044629Z",
     "iopub.status.idle": "2020-09-05T11:56:05.118575Z",
     "shell.execute_reply": "2020-09-05T11:56:05.117614Z"
    },
    "id": "nVMwCeq9Aj6S",
    "outputId": "275ad2a6-b1fd-4202-dfe6-7c3f7f9a5d7c",
    "papermill": {
     "duration": 1.095019,
     "end_time": "2020-09-05T11:56:05.118730",
     "exception": false,
     "start_time": "2020-09-05T11:56:04.023711",
     "status": "completed"
    },
    "tags": []
   },
   "outputs": [
    {
     "name": "stdout",
     "output_type": "stream",
     "text": [
      "<class 'pandas.core.frame.DataFrame'>\n",
      "RangeIndex: 70000 entries, 0 to 69999\n",
      "Data columns (total 13 columns):\n",
      " #   Column       Non-Null Count  Dtype  \n",
      "---  ------       --------------  -----  \n",
      " 0   id           70000 non-null  int64  \n",
      " 1   age          70000 non-null  int64  \n",
      " 2   gender       70000 non-null  int64  \n",
      " 3   height       70000 non-null  int64  \n",
      " 4   weight       70000 non-null  float64\n",
      " 5   ap_hi        70000 non-null  int64  \n",
      " 6   ap_lo        70000 non-null  int64  \n",
      " 7   cholesterol  70000 non-null  int64  \n",
      " 8   gluc         70000 non-null  int64  \n",
      " 9   smoke        70000 non-null  int64  \n",
      " 10  alco         70000 non-null  int64  \n",
      " 11  active       70000 non-null  int64  \n",
      " 12  cardio       70000 non-null  int64  \n",
      "dtypes: float64(1), int64(12)\n",
      "memory usage: 6.9 MB\n"
     ]
    }
   ],
   "source": [
    "#importing basic libraries\n",
    "import numpy as np\n",
    "pip install xgboost\n",
    "import xgboost as xgb\n",
    "import pandas as pd\n",
    "import matplotlib.pyplot as plt\n",
    "import seaborn as sns\n",
    "sns.set()\n",
    "import warnings\n",
    "warnings.filterwarnings('ignore')\n",
    "\n",
    "raw_data = pd.read_csv('ardio_train.csv',sep=';')\n",
    "# Check the data\n",
    "raw_data.info()"
   ]
  },
  {
   "cell_type": "code",
   "execution_count": null,
   "metadata": {
    "execution": {
     "iopub.execute_input": "2020-09-05T11:56:05.162013Z",
     "iopub.status.busy": "2020-09-05T11:56:05.160842Z",
     "iopub.status.idle": "2020-09-05T11:56:05.173767Z",
     "shell.execute_reply": "2020-09-05T11:56:05.172991Z"
    },
    "id": "7eQBtMHeAj6U",
    "outputId": "353b8da8-f2c8-48b3-a1b3-3f55c1d0ada6",
    "papermill": {
     "duration": 0.039978,
     "end_time": "2020-09-05T11:56:05.173917",
     "exception": false,
     "start_time": "2020-09-05T11:56:05.133939",
     "status": "completed"
    },
    "tags": []
   },
   "outputs": [
    {
     "data": {
      "text/html": [
       "<div>\n",
       "<style scoped>\n",
       "    .dataframe tbody tr th:only-of-type {\n",
       "        vertical-align: middle;\n",
       "    }\n",
       "\n",
       "    .dataframe tbody tr th {\n",
       "        vertical-align: top;\n",
       "    }\n",
       "\n",
       "    .dataframe thead th {\n",
       "        text-align: right;\n",
       "    }\n",
       "</style>\n",
       "<table border=\"1\" class=\"dataframe\">\n",
       "  <thead>\n",
       "    <tr style=\"text-align: right;\">\n",
       "      <th></th>\n",
       "      <th>id</th>\n",
       "      <th>age</th>\n",
       "      <th>gender</th>\n",
       "      <th>height</th>\n",
       "      <th>weight</th>\n",
       "      <th>ap_hi</th>\n",
       "      <th>ap_lo</th>\n",
       "      <th>cholesterol</th>\n",
       "      <th>gluc</th>\n",
       "      <th>smoke</th>\n",
       "      <th>alco</th>\n",
       "      <th>active</th>\n",
       "      <th>cardio</th>\n",
       "    </tr>\n",
       "  </thead>\n",
       "  <tbody>\n",
       "    <tr>\n",
       "      <th>0</th>\n",
       "      <td>0</td>\n",
       "      <td>18393</td>\n",
       "      <td>2</td>\n",
       "      <td>168</td>\n",
       "      <td>62.0</td>\n",
       "      <td>110</td>\n",
       "      <td>80</td>\n",
       "      <td>1</td>\n",
       "      <td>1</td>\n",
       "      <td>0</td>\n",
       "      <td>0</td>\n",
       "      <td>1</td>\n",
       "      <td>0</td>\n",
       "    </tr>\n",
       "    <tr>\n",
       "      <th>1</th>\n",
       "      <td>1</td>\n",
       "      <td>20228</td>\n",
       "      <td>1</td>\n",
       "      <td>156</td>\n",
       "      <td>85.0</td>\n",
       "      <td>140</td>\n",
       "      <td>90</td>\n",
       "      <td>3</td>\n",
       "      <td>1</td>\n",
       "      <td>0</td>\n",
       "      <td>0</td>\n",
       "      <td>1</td>\n",
       "      <td>1</td>\n",
       "    </tr>\n",
       "    <tr>\n",
       "      <th>2</th>\n",
       "      <td>2</td>\n",
       "      <td>18857</td>\n",
       "      <td>1</td>\n",
       "      <td>165</td>\n",
       "      <td>64.0</td>\n",
       "      <td>130</td>\n",
       "      <td>70</td>\n",
       "      <td>3</td>\n",
       "      <td>1</td>\n",
       "      <td>0</td>\n",
       "      <td>0</td>\n",
       "      <td>0</td>\n",
       "      <td>1</td>\n",
       "    </tr>\n",
       "  </tbody>\n",
       "</table>\n",
       "</div>"
      ],
      "text/plain": [
       "   id    age  gender  height  weight  ap_hi  ap_lo  cholesterol  gluc  smoke  \\\n",
       "0   0  18393       2     168    62.0    110     80            1     1      0   \n",
       "1   1  20228       1     156    85.0    140     90            3     1      0   \n",
       "2   2  18857       1     165    64.0    130     70            3     1      0   \n",
       "\n",
       "   alco  active  cardio  \n",
       "0     0       1       0  \n",
       "1     0       1       1  \n",
       "2     0       0       1  "
      ]
     },
     "execution_count": 2,
     "metadata": {},
     "output_type": "execute_result"
    }
   ],
   "source": [
    "raw_data.head(3)"
   ]
  },
  {
   "cell_type": "code",
   "execution_count": null,
   "metadata": {
    "execution": {
     "iopub.execute_input": "2020-09-05T11:56:05.207639Z",
     "iopub.status.busy": "2020-09-05T11:56:05.206818Z",
     "iopub.status.idle": "2020-09-05T11:56:05.215084Z",
     "shell.execute_reply": "2020-09-05T11:56:05.214398Z"
    },
    "id": "PMPueM5_Aj6V",
    "outputId": "3f1270aa-84c3-4e36-9dff-9627045a5864",
    "papermill": {
     "duration": 0.027825,
     "end_time": "2020-09-05T11:56:05.215227",
     "exception": false,
     "start_time": "2020-09-05T11:56:05.187402",
     "status": "completed"
    },
    "tags": []
   },
   "outputs": [
    {
     "name": "stdout",
     "output_type": "stream",
     "text": [
      "Missing values are present: False\n"
     ]
    }
   ],
   "source": [
    "print(f\"Missing values are present: {raw_data.isnull().sum().any()}\")"
   ]
  },
  {
   "cell_type": "code",
   "execution_count": null,
   "metadata": {
    "execution": {
     "iopub.execute_input": "2020-09-05T11:56:05.285408Z",
     "iopub.status.busy": "2020-09-05T11:56:05.278641Z",
     "iopub.status.idle": "2020-09-05T11:56:05.314807Z",
     "shell.execute_reply": "2020-09-05T11:56:05.313937Z"
    },
    "id": "fN3-XHsaAj6W",
    "papermill": {
     "duration": 0.059266,
     "end_time": "2020-09-05T11:56:05.314961",
     "exception": false,
     "start_time": "2020-09-05T11:56:05.255695",
     "status": "completed"
    },
    "tags": []
   },
   "outputs": [],
   "source": [
    "raw_data.drop('id',axis=1,inplace=True)\n",
    "raw_data.age = np.round(raw_data.age/365.25,decimals=1)\n",
    "raw_data.gender = raw_data.gender.replace(2,0)"
   ]
  },
  {
   "cell_type": "code",
   "execution_count": null,
   "metadata": {
    "id": "HInYUIIhBLPV"
   },
   "outputs": [],
   "source": []
  },
  {
   "cell_type": "code",
   "execution_count": null,
   "metadata": {
    "execution": {
     "iopub.execute_input": "2020-09-05T11:56:05.351033Z",
     "iopub.status.busy": "2020-09-05T11:56:05.349903Z",
     "iopub.status.idle": "2020-09-05T11:56:05.377656Z",
     "shell.execute_reply": "2020-09-05T11:56:05.376883Z"
    },
    "id": "zKwIsPxIAj6W",
    "outputId": "f1481d13-d30e-4371-a41f-ac1399c4e706",
    "papermill": {
     "duration": 0.049031,
     "end_time": "2020-09-05T11:56:05.377798",
     "exception": false,
     "start_time": "2020-09-05T11:56:05.328767",
     "status": "completed"
    },
    "tags": []
   },
   "outputs": [
    {
     "data": {
      "text/plain": [
       "674"
      ]
     },
     "execution_count": 5,
     "metadata": {},
     "output_type": "execute_result"
    }
   ],
   "source": [
    "raw_data.duplicated().sum()"
   ]
  },
  {
   "cell_type": "code",
   "execution_count": null,
   "metadata": {
    "execution": {
     "iopub.execute_input": "2020-09-05T11:56:05.413089Z",
     "iopub.status.busy": "2020-09-05T11:56:05.411983Z",
     "iopub.status.idle": "2020-09-05T11:56:05.441937Z",
     "shell.execute_reply": "2020-09-05T11:56:05.441087Z"
    },
    "id": "bKsQzwl3Aj6W",
    "papermill": {
     "duration": 0.050411,
     "end_time": "2020-09-05T11:56:05.442082",
     "exception": false,
     "start_time": "2020-09-05T11:56:05.391671",
     "status": "completed"
    },
    "tags": []
   },
   "outputs": [],
   "source": [
    "raw_data.drop_duplicates(inplace=True)"
   ]
  },
  {
   "cell_type": "markdown",
   "metadata": {
    "id": "bV_qRlXIAj6Z",
    "papermill": {
     "duration": 0.014543,
     "end_time": "2020-09-05T11:56:06.736552",
     "exception": false,
     "start_time": "2020-09-05T11:56:06.722009",
     "status": "completed"
    },
    "tags": []
   },
   "source": [
    "I will remove extremely rare cases of height and weight. As data is quite big, there will be no prblem while modelling."
   ]
  },
  {
   "cell_type": "code",
   "execution_count": null,
   "metadata": {
    "execution": {
     "iopub.execute_input": "2020-09-05T11:56:06.774388Z",
     "iopub.status.busy": "2020-09-05T11:56:06.773069Z",
     "iopub.status.idle": "2020-09-05T11:56:06.785057Z",
     "shell.execute_reply": "2020-09-05T11:56:06.784375Z"
    },
    "id": "FNmfBmd_Aj6Z",
    "papermill": {
     "duration": 0.033645,
     "end_time": "2020-09-05T11:56:06.785208",
     "exception": false,
     "start_time": "2020-09-05T11:56:06.751563",
     "status": "completed"
    },
    "tags": []
   },
   "outputs": [],
   "source": [
    "raw_data = raw_data[(raw_data['height']<250) & (raw_data['weight']>20.0)]"
   ]
  },
  {
   "cell_type": "markdown",
   "metadata": {
    "id": "bikQ0Bf_Aj6a",
    "papermill": {
     "duration": 0.014663,
     "end_time": "2020-09-05T11:56:06.815350",
     "exception": false,
     "start_time": "2020-09-05T11:56:06.800687",
     "status": "completed"
    },
    "tags": []
   },
   "source": [
    "There are many outliers in height and weight features. I combine both of these into a new feature bmi."
   ]
  },
  {
   "cell_type": "code",
   "execution_count": null,
   "metadata": {
    "execution": {
     "iopub.execute_input": "2020-09-05T11:56:06.854313Z",
     "iopub.status.busy": "2020-09-05T11:56:06.853104Z",
     "iopub.status.idle": "2020-09-05T11:56:06.861107Z",
     "shell.execute_reply": "2020-09-05T11:56:06.860332Z"
    },
    "id": "3FoWxIAXAj6a",
    "papermill": {
     "duration": 0.030665,
     "end_time": "2020-09-05T11:56:06.861255",
     "exception": false,
     "start_time": "2020-09-05T11:56:06.830590",
     "status": "completed"
    },
    "tags": []
   },
   "outputs": [],
   "source": [
    "raw_data[\"bmi\"] = (raw_data[\"weight\"]/ (raw_data[\"height\"]/100)**2).round(1)"
   ]
  },
  {
   "cell_type": "code",
   "execution_count": null,
   "metadata": {
    "_kg_hide-input": true,
    "execution": {
     "iopub.execute_input": "2020-09-05T11:56:07.051058Z",
     "iopub.status.busy": "2020-09-05T11:56:07.049822Z",
     "iopub.status.idle": "2020-09-05T11:56:07.066337Z",
     "shell.execute_reply": "2020-09-05T11:56:07.065562Z"
    },
    "id": "322z6utSAj6c",
    "papermill": {
     "duration": 0.03886,
     "end_time": "2020-09-05T11:56:07.066497",
     "exception": false,
     "start_time": "2020-09-05T11:56:07.027637",
     "status": "completed"
    },
    "tags": []
   },
   "outputs": [],
   "source": [
    "data= raw_data[(raw_data['bmi']>10) & (raw_data['bmi']<100)].copy()"
   ]
  },
  {
   "cell_type": "code",
   "execution_count": null,
   "metadata": {
    "_kg_hide-input": true,
    "execution": {
     "iopub.execute_input": "2020-09-05T11:56:07.394173Z",
     "iopub.status.busy": "2020-09-05T11:56:07.393133Z",
     "iopub.status.idle": "2020-09-05T11:56:07.396423Z",
     "shell.execute_reply": "2020-09-05T11:56:07.395809Z"
    },
    "id": "A1EX4RiCAj6c",
    "papermill": {
     "duration": 0.029411,
     "end_time": "2020-09-05T11:56:07.396578",
     "exception": false,
     "start_time": "2020-09-05T11:56:07.367167",
     "status": "completed"
    },
    "tags": []
   },
   "outputs": [],
   "source": [
    "data.drop(['weight','height'],axis=1,inplace=True)"
   ]
  },
  {
   "cell_type": "code",
   "execution_count": null,
   "metadata": {
    "execution": {
     "iopub.execute_input": "2020-09-05T11:56:08.109231Z",
     "iopub.status.busy": "2020-09-05T11:56:08.108270Z",
     "iopub.status.idle": "2020-09-05T11:56:08.134658Z",
     "shell.execute_reply": "2020-09-05T11:56:08.133537Z"
    },
    "id": "9IjhR-gYAj6e",
    "papermill": {
     "duration": 0.051775,
     "end_time": "2020-09-05T11:56:08.134889",
     "exception": false,
     "start_time": "2020-09-05T11:56:08.083114",
     "status": "completed"
    },
    "tags": []
   },
   "outputs": [],
   "source": [
    "data= data[(data['ap_lo']<360) & (data['ap_hi']<360)].copy()\n",
    "data= data[(data['ap_lo']>20) & (data['ap_hi']>20)].copy()\n",
    "data=data[data['ap_hi']>data['ap_lo']]"
   ]
  },
  {
   "cell_type": "code",
   "execution_count": null,
   "metadata": {
    "execution": {
     "iopub.execute_input": "2020-09-05T11:56:09.173913Z",
     "iopub.status.busy": "2020-09-05T11:56:09.173110Z",
     "iopub.status.idle": "2020-09-05T11:56:09.250135Z",
     "shell.execute_reply": "2020-09-05T11:56:09.249315Z"
    },
    "id": "BlfJHfHxAj6e",
    "outputId": "71b3a461-5c1d-46f6-f0a7-2e0af5037314",
    "papermill": {
     "duration": 0.106474,
     "end_time": "2020-09-05T11:56:09.250275",
     "exception": false,
     "start_time": "2020-09-05T11:56:09.143801",
     "status": "completed"
    },
    "tags": []
   },
   "outputs": [
    {
     "data": {
      "text/html": [
       "<div>\n",
       "<style scoped>\n",
       "    .dataframe tbody tr th:only-of-type {\n",
       "        vertical-align: middle;\n",
       "    }\n",
       "\n",
       "    .dataframe tbody tr th {\n",
       "        vertical-align: top;\n",
       "    }\n",
       "\n",
       "    .dataframe thead th {\n",
       "        text-align: right;\n",
       "    }\n",
       "</style>\n",
       "<table border=\"1\" class=\"dataframe\">\n",
       "  <thead>\n",
       "    <tr style=\"text-align: right;\">\n",
       "      <th></th>\n",
       "      <th>age</th>\n",
       "      <th>gender</th>\n",
       "      <th>ap_hi</th>\n",
       "      <th>ap_lo</th>\n",
       "      <th>smoke</th>\n",
       "      <th>alco</th>\n",
       "      <th>active</th>\n",
       "      <th>cardio</th>\n",
       "      <th>bmi</th>\n",
       "      <th>cholesterol_normal</th>\n",
       "      <th>cholesterol_well above normal</th>\n",
       "      <th>gluc_normal</th>\n",
       "      <th>gluc_well above normal</th>\n",
       "    </tr>\n",
       "  </thead>\n",
       "  <tbody>\n",
       "    <tr>\n",
       "      <th>0</th>\n",
       "      <td>50.4</td>\n",
       "      <td>0</td>\n",
       "      <td>110</td>\n",
       "      <td>80</td>\n",
       "      <td>0</td>\n",
       "      <td>0</td>\n",
       "      <td>1</td>\n",
       "      <td>0</td>\n",
       "      <td>22.0</td>\n",
       "      <td>1</td>\n",
       "      <td>0</td>\n",
       "      <td>1</td>\n",
       "      <td>0</td>\n",
       "    </tr>\n",
       "    <tr>\n",
       "      <th>1</th>\n",
       "      <td>55.4</td>\n",
       "      <td>1</td>\n",
       "      <td>140</td>\n",
       "      <td>90</td>\n",
       "      <td>0</td>\n",
       "      <td>0</td>\n",
       "      <td>1</td>\n",
       "      <td>1</td>\n",
       "      <td>34.9</td>\n",
       "      <td>0</td>\n",
       "      <td>1</td>\n",
       "      <td>1</td>\n",
       "      <td>0</td>\n",
       "    </tr>\n",
       "    <tr>\n",
       "      <th>2</th>\n",
       "      <td>51.6</td>\n",
       "      <td>1</td>\n",
       "      <td>130</td>\n",
       "      <td>70</td>\n",
       "      <td>0</td>\n",
       "      <td>0</td>\n",
       "      <td>0</td>\n",
       "      <td>1</td>\n",
       "      <td>23.5</td>\n",
       "      <td>0</td>\n",
       "      <td>1</td>\n",
       "      <td>1</td>\n",
       "      <td>0</td>\n",
       "    </tr>\n",
       "    <tr>\n",
       "      <th>3</th>\n",
       "      <td>48.2</td>\n",
       "      <td>0</td>\n",
       "      <td>150</td>\n",
       "      <td>100</td>\n",
       "      <td>0</td>\n",
       "      <td>0</td>\n",
       "      <td>1</td>\n",
       "      <td>1</td>\n",
       "      <td>28.7</td>\n",
       "      <td>1</td>\n",
       "      <td>0</td>\n",
       "      <td>1</td>\n",
       "      <td>0</td>\n",
       "    </tr>\n",
       "    <tr>\n",
       "      <th>4</th>\n",
       "      <td>47.8</td>\n",
       "      <td>1</td>\n",
       "      <td>100</td>\n",
       "      <td>60</td>\n",
       "      <td>0</td>\n",
       "      <td>0</td>\n",
       "      <td>0</td>\n",
       "      <td>0</td>\n",
       "      <td>23.0</td>\n",
       "      <td>1</td>\n",
       "      <td>0</td>\n",
       "      <td>1</td>\n",
       "      <td>0</td>\n",
       "    </tr>\n",
       "  </tbody>\n",
       "</table>\n",
       "</div>"
      ],
      "text/plain": [
       "    age  gender  ap_hi  ap_lo  smoke  alco  active  cardio   bmi  \\\n",
       "0  50.4       0    110     80      0     0       1       0  22.0   \n",
       "1  55.4       1    140     90      0     0       1       1  34.9   \n",
       "2  51.6       1    130     70      0     0       0       1  23.5   \n",
       "3  48.2       0    150    100      0     0       1       1  28.7   \n",
       "4  47.8       1    100     60      0     0       0       0  23.0   \n",
       "\n",
       "   cholesterol_normal  cholesterol_well above normal  gluc_normal  \\\n",
       "0                   1                              0            1   \n",
       "1                   0                              1            1   \n",
       "2                   0                              1            1   \n",
       "3                   1                              0            1   \n",
       "4                   1                              0            1   \n",
       "\n",
       "   gluc_well above normal  \n",
       "0                       0  \n",
       "1                       0  \n",
       "2                       0  \n",
       "3                       0  \n",
       "4                       0  "
      ]
     },
     "execution_count": 25,
     "metadata": {},
     "output_type": "execute_result"
    }
   ],
   "source": [
    "#creating dummy variables for categorical column\n",
    "data['cholesterol']=data['cholesterol'].map({ 1: 'normal', 2: 'above normal', 3: 'well above normal'})\n",
    "data['gluc']=data['gluc'].map({ 1: 'normal', 2: 'above normal', 3: 'well above normal'})\n",
    "dummies = pd.get_dummies(data[['cholesterol','gluc']],drop_first=True)\n",
    "final_data = pd.concat([data,dummies],axis=1)\n",
    "final_data.drop(['cholesterol','gluc'],axis=1,inplace=True)\n",
    "final_data.head()"
   ]
  },
  {
   "cell_type": "markdown",
   "metadata": {
    "id": "nTUqaMKVAj6f",
    "papermill": {
     "duration": 0.025996,
     "end_time": "2020-09-05T11:56:11.506614",
     "exception": false,
     "start_time": "2020-09-05T11:56:11.480618",
     "status": "completed"
    },
    "tags": []
   },
   "source": [
    "### Splitting and Standardizing data"
   ]
  },
  {
   "cell_type": "code",
   "execution_count": null,
   "metadata": {
    "execution": {
     "iopub.execute_input": "2020-09-05T11:56:11.570633Z",
     "iopub.status.busy": "2020-09-05T11:56:11.569715Z",
     "iopub.status.idle": "2020-09-05T11:56:11.842293Z",
     "shell.execute_reply": "2020-09-05T11:56:11.842902Z"
    },
    "id": "fbJQDIeNAj6f",
    "papermill": {
     "duration": 0.310144,
     "end_time": "2020-09-05T11:56:11.843112",
     "exception": false,
     "start_time": "2020-09-05T11:56:11.532968",
     "status": "completed"
    },
    "tags": []
   },
   "outputs": [],
   "source": [
    "from sklearn.model_selection import train_test_split\n",
    "from sklearn.preprocessing import StandardScaler\n",
    "\n",
    "X_train, X_test, y_train, y_test = train_test_split(final_data.drop('cardio',axis=1),final_data.cardio,test_size=0.30)\n",
    "\n",
    "to_be_scaled_feat = ['age', 'ap_hi', 'ap_lo','bmi']\n",
    "other_feat = ['gender', 'cholesterol_normal', 'cholesterol_well above normal',\n",
    "       'gluc_normal', 'gluc_well above normal', 'smoke', 'alco', 'active']\n",
    "scaler=StandardScaler()\n",
    "scaler.fit(X_train[to_be_scaled_feat])\n",
    "X_train[to_be_scaled_feat] = scaler.transform(X_train[to_be_scaled_feat])\n",
    "X_test[to_be_scaled_feat] = scaler.transform(X_test[to_be_scaled_feat])"
   ]
  },
  {
   "cell_type": "markdown",
   "metadata": {
    "id": "tNXTWS9TAj6f",
    "papermill": {
     "duration": 0.026349,
     "end_time": "2020-09-05T11:56:11.896461",
     "exception": false,
     "start_time": "2020-09-05T11:56:11.870112",
     "status": "completed"
    },
    "tags": []
   },
   "source": [
    "### Modelling"
   ]
  },
  {
   "cell_type": "code",
   "execution_count": 1,
   "metadata": {
    "execution": {
     "iopub.execute_input": "2020-09-05T11:56:11.957871Z",
     "iopub.status.busy": "2020-09-05T11:56:11.956659Z",
     "iopub.status.idle": "2020-09-05T11:58:52.190726Z",
     "shell.execute_reply": "2020-09-05T11:58:52.191538Z"
    },
    "id": "TSEa3CjVAj6f",
    "outputId": "85151111-a5bf-4755-82fb-675b88692497",
    "papermill": {
     "duration": 160.268464,
     "end_time": "2020-09-05T11:58:52.191787",
     "exception": false,
     "start_time": "2020-09-05T11:56:11.923323",
     "status": "completed"
    },
    "scrolled": true,
    "tags": []
   },
   "outputs": [
    {
     "ename": "ModuleNotFoundError",
     "evalue": "No module named 'xgboost'",
     "output_type": "error",
     "traceback": [
      "\u001b[1;31m---------------------------------------------------------------------------\u001b[0m",
      "\u001b[1;31mModuleNotFoundError\u001b[0m                       Traceback (most recent call last)",
      "\u001b[1;32m~\\AppData\\Local\\Temp\\ipykernel_37560\\2441510333.py\u001b[0m in \u001b[0;36m<module>\u001b[1;34m\u001b[0m\n\u001b[0;32m      5\u001b[0m \u001b[1;32mfrom\u001b[0m \u001b[0msklearn\u001b[0m\u001b[1;33m.\u001b[0m\u001b[0msvm\u001b[0m \u001b[1;32mimport\u001b[0m \u001b[0mSVC\u001b[0m\u001b[1;33m\u001b[0m\u001b[1;33m\u001b[0m\u001b[0m\n\u001b[0;32m      6\u001b[0m \u001b[1;32mfrom\u001b[0m \u001b[0msklearn\u001b[0m\u001b[1;33m.\u001b[0m\u001b[0mneighbors\u001b[0m \u001b[1;32mimport\u001b[0m \u001b[0mKNeighborsClassifier\u001b[0m\u001b[1;33m\u001b[0m\u001b[1;33m\u001b[0m\u001b[0m\n\u001b[1;32m----> 7\u001b[1;33m \u001b[1;32mfrom\u001b[0m \u001b[0mxgboost\u001b[0m \u001b[1;32mimport\u001b[0m \u001b[0mXGBClassifier\u001b[0m\u001b[1;33m\u001b[0m\u001b[1;33m\u001b[0m\u001b[0m\n\u001b[0m\u001b[0;32m      8\u001b[0m \u001b[1;32mfrom\u001b[0m \u001b[0msklearn\u001b[0m\u001b[1;33m.\u001b[0m\u001b[0mmetrics\u001b[0m \u001b[1;32mimport\u001b[0m \u001b[0mf1_score\u001b[0m\u001b[1;33m,\u001b[0m\u001b[0maccuracy_score\u001b[0m\u001b[1;33m,\u001b[0m\u001b[0mclassification_report\u001b[0m\u001b[1;33m\u001b[0m\u001b[1;33m\u001b[0m\u001b[0m\n\u001b[0;32m      9\u001b[0m \u001b[1;33m\u001b[0m\u001b[0m\n",
      "\u001b[1;31mModuleNotFoundError\u001b[0m: No module named 'xgboost'"
     ]
    }
   ],
   "source": [
    "# importing classifiers\n",
    "from sklearn.linear_model import LogisticRegression\n",
    "from sklearn.tree import DecisionTreeClassifier\n",
    "from sklearn.ensemble import RandomForestClassifier\n",
    "from sklearn.svm import SVC\n",
    "from sklearn.neighbors import KNeighborsClassifier\n",
    "from xgboost import XGBClassifier\n",
    "from sklearn.metrics import f1_score,accuracy_score,classification_report\n",
    "\n",
    "classifiers = {\n",
    "    'Logistic Regression' : LogisticRegression(),\n",
    "    'Decision Tree' : DecisionTreeClassifier(),\n",
    "    'Random Forest' : RandomForestClassifier(),\n",
    "    'Support Vector Machines' : SVC(),\n",
    "    'K-nearest Neighbors' : KNeighborsClassifier(),\n",
    "    'XGBoost' : XGBClassifier()\n",
    "}\n",
    "results=pd.DataFrame(columns=['Accuracy in %','F1-score'])\n",
    "for method,func in classifiers.items():\n",
    "    func.fit(X_train,y_train)\n",
    "    pred = func.predict(X_test)\n",
    "    results.loc[method]= [100*np.round(accuracy_score(y_test,pred),decimals=4),\n",
    "                         round(f1_score(y_test,pred),2)]\n",
    "results"
   ]
  },
  {
   "cell_type": "markdown",
   "metadata": {
    "id": "_X7XWlzSAj6g",
    "papermill": {
     "duration": 0.026749,
     "end_time": "2020-09-05T11:58:52.254455",
     "exception": false,
     "start_time": "2020-09-05T11:58:52.227706",
     "status": "completed"
    },
    "tags": []
   },
   "source": [
    "# Improving Accuracy by Hyperparameter Tuning\n",
    "\n",
    "## K- Nearest Neighbors (by elbow method)"
   ]
  },
  {
   "cell_type": "code",
   "execution_count": null,
   "metadata": {
    "execution": {
     "iopub.execute_input": "2020-09-05T11:58:52.328944Z",
     "iopub.status.busy": "2020-09-05T11:58:52.328022Z",
     "iopub.status.idle": "2020-09-05T11:59:49.263866Z",
     "shell.execute_reply": "2020-09-05T11:59:49.264537Z"
    },
    "id": "hT26sZpFAj6q",
    "outputId": "c9c740be-1f8b-4ec9-c8c0-feacdc99d98b",
    "papermill": {
     "duration": 56.982589,
     "end_time": "2020-09-05T11:59:49.264751",
     "exception": false,
     "start_time": "2020-09-05T11:58:52.282162",
     "status": "completed"
    },
    "tags": []
   },
   "outputs": [
    {
     "data": {
      "image/png": "[encoded data removed]",
      "text/plain": [
       "<Figure size 720x432 with 1 Axes>"
      ]
     },
     "metadata": {},
     "output_type": "display_data"
    }
   ],
   "source": [
    "error_rate = []\n",
    "\n",
    "for i in range(1,15):\n",
    "\n",
    "    knn = KNeighborsClassifier(n_neighbors=i)\n",
    "    knn.fit(X_train,y_train)\n",
    "    pred_i = knn.predict(X_test)\n",
    "    error_rate.append(np.mean(pred_i != y_test))\n",
    "\n",
    "plt.figure(figsize=(10,6))\n",
    "plt.plot(range(1,15),error_rate,color='blue', linestyle='dashed', marker='o',\n",
    "         markerfacecolor='red', markersize=10)\n",
    "plt.title('Error Rate vs. K Value')\n",
    "plt.xlabel('K')\n",
    "plt.ylabel('Error Rate');"
   ]
  },
  {
   "cell_type": "code",
   "execution_count": null,
   "metadata": {
    "execution": {
     "iopub.execute_input": "2020-09-05T11:59:49.330620Z",
     "iopub.status.busy": "2020-09-05T11:59:49.329736Z",
     "iopub.status.idle": "2020-09-05T11:59:53.900075Z",
     "shell.execute_reply": "2020-09-05T11:59:53.900878Z"
    },
    "id": "_RRKRSwmAj6q",
    "outputId": "abd6a02a-7d4c-489c-a12c-0fe4f447586b",
    "papermill": {
     "duration": 4.608922,
     "end_time": "2020-09-05T11:59:53.901081",
     "exception": false,
     "start_time": "2020-09-05T11:59:49.292159",
     "status": "completed"
    },
    "scrolled": true,
    "tags": []
   },
   "outputs": [
    {
     "name": "stdout",
     "output_type": "stream",
     "text": [
      "              precision    recall  f1-score   support\n",
      "\n",
      "           0       0.70      0.78      0.74     10265\n",
      "           1       0.75      0.66      0.70     10127\n",
      "\n",
      "    accuracy                           0.72     20392\n",
      "   macro avg       0.72      0.72      0.72     20392\n",
      "weighted avg       0.72      0.72      0.72     20392\n",
      "\n"
     ]
    }
   ],
   "source": [
    "knn = KNeighborsClassifier(n_neighbors=12)\n",
    "knn.fit(X_train,y_train)\n",
    "knn_pred = knn.predict(X_test)\n",
    "print(classification_report(y_test,knn_pred))"
   ]
  },
  {
   "cell_type": "code",
   "execution_count": null,
   "metadata": {
    "_kg_hide-input": true,
    "execution": {
     "iopub.execute_input": "2020-09-05T11:59:53.964238Z",
     "iopub.status.busy": "2020-09-05T11:59:53.963101Z",
     "iopub.status.idle": "2020-09-05T11:59:53.982247Z",
     "shell.execute_reply": "2020-09-05T11:59:53.981444Z"
    },
    "id": "vBlT1J0BAj6r",
    "papermill": {
     "duration": 0.054118,
     "end_time": "2020-09-05T11:59:53.982386",
     "exception": false,
     "start_time": "2020-09-05T11:59:53.928268",
     "status": "completed"
    },
    "tags": []
   },
   "outputs": [],
   "source": [
    "results.loc['K-nearest Neighbors(Improved)']= [100*np.round(accuracy_score(y_test,knn_pred),decimals=4),\n",
    "                         round(f1_score(y_test,knn_pred),2)]"
   ]
  },
  {
   "cell_type": "markdown",
   "metadata": {
    "id": "PqgDGPsrAj6r",
    "papermill": {
     "duration": 0.027575,
     "end_time": "2020-09-05T11:59:54.037392",
     "exception": false,
     "start_time": "2020-09-05T11:59:54.009817",
     "status": "completed"
    },
    "tags": []
   },
   "source": [
    "By using **elbow method** we have increased accuracy of this model from 69.4% to 72%."
   ]
  },
  {
   "cell_type": "markdown",
   "metadata": {
    "id": "9uVJQqBeAj6r",
    "papermill": {
     "duration": 0.026874,
     "end_time": "2020-09-05T11:59:54.092171",
     "exception": false,
     "start_time": "2020-09-05T11:59:54.065297",
     "status": "completed"
    },
    "tags": []
   },
   "source": [
    "## Random Forest (by GridSearchCV)"
   ]
  },
  {
   "cell_type": "code",
   "execution_count": 2,
   "metadata": {
    "execution": {
     "iopub.execute_input": "2020-09-05T11:59:54.157750Z",
     "iopub.status.busy": "2020-09-05T11:59:54.156867Z",
     "iopub.status.idle": "2020-09-05T12:16:57.324671Z",
     "shell.execute_reply": "2020-09-05T12:16:57.325342Z"
    },
    "id": "1Z1vtTecAj6s",
    "outputId": "cee83bea-1f54-49f9-964c-f612ff0b889a",
    "papermill": {
     "duration": 1023.205593,
     "end_time": "2020-09-05T12:16:57.325605",
     "exception": false,
     "start_time": "2020-09-05T11:59:54.120012",
     "status": "completed"
    },
    "tags": []
   },
   "outputs": [
    {
     "ename": "NameError",
     "evalue": "name 'X_train' is not defined",
     "output_type": "error",
     "traceback": [
      "\u001b[1;31m---------------------------------------------------------------------------\u001b[0m",
      "\u001b[1;31mNameError\u001b[0m                                 Traceback (most recent call last)",
      "\u001b[1;32m~\\AppData\\Local\\Temp\\ipykernel_37560\\2982685407.py\u001b[0m in \u001b[0;36m<module>\u001b[1;34m\u001b[0m\n\u001b[0;32m      7\u001b[0m     'n_estimators': [100, 200]}\n\u001b[0;32m      8\u001b[0m \u001b[0mgrid\u001b[0m\u001b[1;33m=\u001b[0m\u001b[0mGridSearchCV\u001b[0m\u001b[1;33m(\u001b[0m\u001b[0mRandomForestClassifier\u001b[0m\u001b[1;33m(\u001b[0m\u001b[1;33m)\u001b[0m\u001b[1;33m,\u001b[0m\u001b[0mparam_grid\u001b[0m\u001b[1;33m,\u001b[0m\u001b[0mverbose\u001b[0m\u001b[1;33m=\u001b[0m\u001b[1;36m1\u001b[0m\u001b[1;33m)\u001b[0m\u001b[1;33m\u001b[0m\u001b[1;33m\u001b[0m\u001b[0m\n\u001b[1;32m----> 9\u001b[1;33m \u001b[0mgrid\u001b[0m\u001b[1;33m.\u001b[0m\u001b[0mfit\u001b[0m\u001b[1;33m(\u001b[0m\u001b[0mX_train\u001b[0m\u001b[1;33m,\u001b[0m\u001b[0my_train\u001b[0m\u001b[1;33m)\u001b[0m\u001b[1;33m\u001b[0m\u001b[1;33m\u001b[0m\u001b[0m\n\u001b[0m\u001b[0;32m     10\u001b[0m \u001b[0mgrid\u001b[0m\u001b[1;33m.\u001b[0m\u001b[0mbest_params_\u001b[0m\u001b[1;33m\u001b[0m\u001b[1;33m\u001b[0m\u001b[0m\n",
      "\u001b[1;31mNameError\u001b[0m: name 'X_train' is not defined"
     ]
    }
   ],
   "source": [
    "from sklearn.model_selection import GridSearchCV\n",
    "\n",
    "param_grid = {'max_depth': [80, 90],\n",
    "    'max_features': [2, 3],\n",
    "    'min_samples_leaf': [3, 4],\n",
    "    'min_samples_split': [8, 10],\n",
    "    'n_estimators': [100, 200]}\n",
    "grid=GridSearchCV(RandomForestClassifier(),param_grid,verbose=1)\n",
    "grid.fit(X_train,y_train)\n",
    "grid.best_params_"
   ]
  },
  {
   "cell_type": "code",
   "execution_count": null,
   "metadata": {
    "execution": {
     "iopub.execute_input": "2020-09-05T12:16:57.393186Z",
     "iopub.status.busy": "2020-09-05T12:16:57.392213Z",
     "iopub.status.idle": "2020-09-05T12:16:58.312395Z",
     "shell.execute_reply": "2020-09-05T12:16:58.313294Z"
    },
    "id": "qJ1W9rZqAj6s",
    "outputId": "be4af7bc-d6be-4afa-bbef-5741bdf7381b",
    "papermill": {
     "duration": 0.959238,
     "end_time": "2020-09-05T12:16:58.313588",
     "exception": false,
     "start_time": "2020-09-05T12:16:57.354350",
     "status": "completed"
    },
    "scrolled": true,
    "tags": []
   },
   "outputs": [
    {
     "name": "stdout",
     "output_type": "stream",
     "text": [
      "              precision    recall  f1-score   support\n",
      "\n",
      "           0       0.72      0.78      0.75     10265\n",
      "           1       0.75      0.69      0.72     10127\n",
      "\n",
      "    accuracy                           0.73     20392\n",
      "   macro avg       0.74      0.73      0.73     20392\n",
      "weighted avg       0.74      0.73      0.73     20392\n",
      "\n"
     ]
    }
   ],
   "source": [
    "grid_pred = grid.predict(X_test)\n",
    "print(classification_report(y_test,grid_pred))"
   ]
  },
  {
   "cell_type": "markdown",
   "metadata": {
    "id": "_IQe1tn6Aj6s",
    "papermill": {
     "duration": 0.028858,
     "end_time": "2020-09-05T12:16:58.429463",
     "exception": false,
     "start_time": "2020-09-05T12:16:58.400605",
     "status": "completed"
    },
    "tags": []
   },
   "source": [
    "# Deep Neural Networks"
   ]
  },
  {
   "cell_type": "code",
   "execution_count": null,
   "metadata": {
    "_kg_hide-input": true,
    "execution": {
     "iopub.execute_input": "2020-09-05T12:16:58.495426Z",
     "iopub.status.busy": "2020-09-05T12:16:58.494225Z",
     "iopub.status.idle": "2020-09-05T12:16:58.497155Z",
     "shell.execute_reply": "2020-09-05T12:16:58.497749Z"
    },
    "id": "PCbu1J7qAj6t",
    "papermill": {
     "duration": 0.039673,
     "end_time": "2020-09-05T12:16:58.497956",
     "exception": false,
     "start_time": "2020-09-05T12:16:58.458283",
     "status": "completed"
    },
    "tags": []
   },
   "outputs": [],
   "source": [
    "import tensorflow as tf\n",
    "from tensorflow.keras.models import Sequential\n",
    "from tensorflow.keras.layers import Dense, Activation,Dropout\n",
    "from tensorflow.keras.optimizers import Adam\n",
    "from tensorflow.keras.callbacks import EarlyStopping"
   ]
  },
  {
   "cell_type": "code",
   "execution_count": null,
   "metadata": {
    "_kg_hide-output": true,
    "execution": {
     "iopub.execute_input": "2020-09-05T12:16:58.575609Z",
     "iopub.status.busy": "2020-09-05T12:16:58.570095Z",
     "iopub.status.idle": "2020-09-05T12:17:21.997313Z",
     "shell.execute_reply": "2020-09-05T12:17:21.996534Z"
    },
    "id": "WK3IjcLpAj6t",
    "outputId": "5910c4a4-119a-456b-dccd-57cbcc3e087c",
    "papermill": {
     "duration": 23.470721,
     "end_time": "2020-09-05T12:17:21.997484",
     "exception": false,
     "start_time": "2020-09-05T12:16:58.526763",
     "status": "completed"
    },
    "tags": []
   },
   "outputs": [
    {
     "name": "stdout",
     "output_type": "stream",
     "text": [
      "Epoch 1/150\n",
      "381/381 [==============================] - 1s 3ms/step - loss: 0.5740 - val_loss: 0.5496\n",
      "Epoch 2/150\n",
      "381/381 [==============================] - 1s 3ms/step - loss: 0.5548 - val_loss: 0.5499\n",
      "Epoch 3/150\n",
      "381/381 [==============================] - 1s 2ms/step - loss: 0.5523 - val_loss: 0.5468\n",
      "Epoch 4/150\n",
      "381/381 [==============================] - 1s 3ms/step - loss: 0.5509 - val_loss: 0.5467\n",
      "Epoch 5/150\n",
      "381/381 [==============================] - 1s 3ms/step - loss: 0.5486 - val_loss: 0.5465\n",
      "Epoch 6/150\n",
      "381/381 [==============================] - 1s 3ms/step - loss: 0.5489 - val_loss: 0.5476\n",
      "Epoch 7/150\n",
      "381/381 [==============================] - 1s 3ms/step - loss: 0.5477 - val_loss: 0.5460\n",
      "Epoch 8/150\n",
      "381/381 [==============================] - 1s 3ms/step - loss: 0.5473 - val_loss: 0.5455\n",
      "Epoch 9/150\n",
      "381/381 [==============================] - 1s 3ms/step - loss: 0.5475 - val_loss: 0.5456\n",
      "Epoch 10/150\n",
      "381/381 [==============================] - 1s 3ms/step - loss: 0.5473 - val_loss: 0.5450\n",
      "Epoch 11/150\n",
      "381/381 [==============================] - 1s 3ms/step - loss: 0.5473 - val_loss: 0.5451\n",
      "Epoch 12/150\n",
      "381/381 [==============================] - 1s 3ms/step - loss: 0.5459 - val_loss: 0.5459\n",
      "Epoch 13/150\n",
      "381/381 [==============================] - 1s 3ms/step - loss: 0.5457 - val_loss: 0.5449\n",
      "Epoch 14/150\n",
      "381/381 [==============================] - 1s 3ms/step - loss: 0.5452 - val_loss: 0.5453\n",
      "Epoch 15/150\n",
      "381/381 [==============================] - 1s 3ms/step - loss: 0.5461 - val_loss: 0.5466\n",
      "Epoch 16/150\n",
      "381/381 [==============================] - 1s 3ms/step - loss: 0.5451 - val_loss: 0.5448\n",
      "Epoch 17/150\n",
      "381/381 [==============================] - 1s 3ms/step - loss: 0.5441 - val_loss: 0.5450\n",
      "Epoch 18/150\n",
      "381/381 [==============================] - 1s 3ms/step - loss: 0.5451 - val_loss: 0.5451\n",
      "Epoch 19/150\n",
      "381/381 [==============================] - 1s 3ms/step - loss: 0.5443 - val_loss: 0.5502\n",
      "Epoch 20/150\n",
      "381/381 [==============================] - 1s 3ms/step - loss: 0.5441 - val_loss: 0.5456\n",
      "Epoch 21/150\n",
      "381/381 [==============================] - 1s 3ms/step - loss: 0.5446 - val_loss: 0.5453\n",
      "Epoch 00021: early stopping\n"
     ]
    },
    {
     "data": {
      "text/plain": [
       "<tensorflow.python.keras.callbacks.History at 0x7f24c85d9310>"
      ]
     },
     "execution_count": 35,
     "metadata": {},
     "output_type": "execute_result"
    }
   ],
   "source": [
    "#splitting further into validation set\n",
    "X_train, X_val, y_train, y_val = train_test_split(X_train,y_train,test_size=0.20)\n",
    "\n",
    "model = Sequential()\n",
    "model.add(Dense(12,activation='relu'))\n",
    "model.add(Dense(50,activation='relu',kernel_initializer=tf.random_uniform_initializer(minval=-0.1, maxval=0.1),\n",
    "    bias_initializer=tf.random_uniform_initializer(minval=-0.1, maxval=0.1)))\n",
    "model.add(Dropout(0.2))\n",
    "model.add(Dense(50,activation='relu',kernel_initializer=tf.random_uniform_initializer(minval=-0.1, maxval=0.1),\n",
    "    bias_initializer=tf.random_uniform_initializer(minval=-0.1, maxval=0.1)))\n",
    "model.add(Dropout(0.2))\n",
    "model.add(Dense(50,activation='relu',kernel_initializer=tf.random_uniform_initializer(minval=-0.1, maxval=0.1),\n",
    "    bias_initializer=tf.random_uniform_initializer(minval=-0.1, maxval=0.1)))\n",
    "model.add(Dropout(0.2))\n",
    "model.add(Dense(1,activation='sigmoid'))\n",
    "\n",
    "model.compile(loss='binary_crossentropy', optimizer='adam')\n",
    "\n",
    "early_stop = EarlyStopping(monitor='val_loss', mode='min', verbose=1, patience=5)\n",
    "\n",
    "model.fit(x=X_train.values,y=y_train.values,\n",
    "          validation_data=(X_val,y_val.values),\n",
    "          batch_size=100,epochs=150,callbacks=[early_stop])"
   ]
  },
  {
   "cell_type": "code",
   "execution_count": null,
   "metadata": {
    "execution": {
     "iopub.execute_input": "2020-09-05T12:17:22.117029Z",
     "iopub.status.busy": "2020-09-05T12:17:22.116096Z",
     "iopub.status.idle": "2020-09-05T12:17:22.521372Z",
     "shell.execute_reply": "2020-09-05T12:17:22.520571Z"
    },
    "id": "hnFM-NevAj6t",
    "outputId": "349f6cfd-1d7e-4546-a3d1-2cc8ce74f9da",
    "papermill": {
     "duration": 0.468718,
     "end_time": "2020-09-05T12:17:22.521549",
     "exception": false,
     "start_time": "2020-09-05T12:17:22.052831",
     "status": "completed"
    },
    "tags": []
   },
   "outputs": [
    {
     "data": {
      "image/png": "[encoded data removed]",
      "text/plain": [
       "<Figure size 432x288 with 1 Axes>"
      ]
     },
     "metadata": {},
     "output_type": "display_data"
    }
   ],
   "source": [
    "losses = pd.DataFrame(model.history.history)\n",
    "losses[['loss','val_loss']].plot();"
   ]
  },
  {
   "cell_type": "code",
   "execution_count": null,
   "metadata": {
    "execution": {
     "iopub.execute_input": "2020-09-05T12:17:22.640635Z",
     "iopub.status.busy": "2020-09-05T12:17:22.639781Z",
     "iopub.status.idle": "2020-09-05T12:17:23.305584Z",
     "shell.execute_reply": "2020-09-05T12:17:23.304626Z"
    },
    "id": "Cr3UAJJmAj6u",
    "outputId": "290be931-ec02-4640-f0a8-83ef40b60993",
    "papermill": {
     "duration": 0.729387,
     "end_time": "2020-09-05T12:17:23.305790",
     "exception": false,
     "start_time": "2020-09-05T12:17:22.576403",
     "status": "completed"
    },
    "scrolled": true,
    "tags": []
   },
   "outputs": [
    {
     "name": "stdout",
     "output_type": "stream",
     "text": [
      "              precision    recall  f1-score   support\n",
      "\n",
      "           0       0.72      0.76      0.74     10265\n",
      "           1       0.75      0.71      0.73     10127\n",
      "\n",
      "    accuracy                           0.73     20392\n",
      "   macro avg       0.73      0.73      0.73     20392\n",
      "weighted avg       0.73      0.73      0.73     20392\n",
      "\n"
     ]
    }
   ],
   "source": [
    "dnn_pred = model.predict_classes(X_test)\n",
    "print(classification_report(y_test,dnn_pred))"
   ]
  },
  {
   "cell_type": "markdown",
   "metadata": {
    "id": "w6SluyoxAj6u",
    "papermill": {
     "duration": 0.054686,
     "end_time": "2020-09-05T12:17:23.415628",
     "exception": false,
     "start_time": "2020-09-05T12:17:23.360942",
     "status": "completed"
    },
    "tags": []
   },
   "source": [
    "# Results"
   ]
  },
  {
   "cell_type": "code",
   "execution_count": null,
   "metadata": {
    "_kg_hide-input": true,
    "execution": {
     "iopub.execute_input": "2020-09-05T12:17:23.538038Z",
     "iopub.status.busy": "2020-09-05T12:17:23.536648Z",
     "iopub.status.idle": "2020-09-05T12:17:23.724530Z",
     "shell.execute_reply": "2020-09-05T12:17:23.723830Z"
    },
    "id": "p1479wbQAj6u",
    "outputId": "4163f0e1-7864-4e89-b695-88c68a80aea1",
    "papermill": {
     "duration": 0.25278,
     "end_time": "2020-09-05T12:17:23.724700",
     "exception": false,
     "start_time": "2020-09-05T12:17:23.471920",
     "status": "completed"
    },
    "tags": []
   },
   "outputs": [
    {
     "data": {
      "text/html": [
       "<style  type=\"text/css\" >\n",
       "    #T_c10829ba_ef71_11ea_9778_0242ac130202row0_col0 {\n",
       "            background-color:  yellow;\n",
       "        }    #T_c10829ba_ef71_11ea_9778_0242ac130202row2_col1 {\n",
       "            background-color:  yellow;\n",
       "        }</style><table id=\"T_c10829ba_ef71_11ea_9778_0242ac130202\" ><thead>    <tr>        <th class=\"blank level0\" ></th>        <th class=\"col_heading level0 col0\" >Accuracy in %</th>        <th class=\"col_heading level0 col1\" >F1-score</th>    </tr></thead><tbody>\n",
       "                <tr>\n",
       "                        <th id=\"T_c10829ba_ef71_11ea_9778_0242ac130202level0_row0\" class=\"row_heading level0 row0\" >Support Vector Machines</th>\n",
       "                        <td id=\"T_c10829ba_ef71_11ea_9778_0242ac130202row0_col0\" class=\"data row0 col0\" >73.560000</td>\n",
       "                        <td id=\"T_c10829ba_ef71_11ea_9778_0242ac130202row0_col1\" class=\"data row0 col1\" >0.720000</td>\n",
       "            </tr>\n",
       "            <tr>\n",
       "                        <th id=\"T_c10829ba_ef71_11ea_9778_0242ac130202level0_row1\" class=\"row_heading level0 row1\" >Random Forest(Improved)</th>\n",
       "                        <td id=\"T_c10829ba_ef71_11ea_9778_0242ac130202row1_col0\" class=\"data row1 col0\" >73.480000</td>\n",
       "                        <td id=\"T_c10829ba_ef71_11ea_9778_0242ac130202row1_col1\" class=\"data row1 col1\" >0.720000</td>\n",
       "            </tr>\n",
       "            <tr>\n",
       "                        <th id=\"T_c10829ba_ef71_11ea_9778_0242ac130202level0_row2\" class=\"row_heading level0 row2\" >Deep Neural Network</th>\n",
       "                        <td id=\"T_c10829ba_ef71_11ea_9778_0242ac130202row2_col0\" class=\"data row2 col0\" >73.410000</td>\n",
       "                        <td id=\"T_c10829ba_ef71_11ea_9778_0242ac130202row2_col1\" class=\"data row2 col1\" >0.730000</td>\n",
       "            </tr>\n",
       "            <tr>\n",
       "                        <th id=\"T_c10829ba_ef71_11ea_9778_0242ac130202level0_row3\" class=\"row_heading level0 row3\" >XGBoost</th>\n",
       "                        <td id=\"T_c10829ba_ef71_11ea_9778_0242ac130202row3_col0\" class=\"data row3 col0\" >73.240000</td>\n",
       "                        <td id=\"T_c10829ba_ef71_11ea_9778_0242ac130202row3_col1\" class=\"data row3 col1\" >0.720000</td>\n",
       "            </tr>\n",
       "            <tr>\n",
       "                        <th id=\"T_c10829ba_ef71_11ea_9778_0242ac130202level0_row4\" class=\"row_heading level0 row4\" >Logistic Regression</th>\n",
       "                        <td id=\"T_c10829ba_ef71_11ea_9778_0242ac130202row4_col0\" class=\"data row4 col0\" >73.060000</td>\n",
       "                        <td id=\"T_c10829ba_ef71_11ea_9778_0242ac130202row4_col1\" class=\"data row4 col1\" >0.710000</td>\n",
       "            </tr>\n",
       "            <tr>\n",
       "                        <th id=\"T_c10829ba_ef71_11ea_9778_0242ac130202level0_row5\" class=\"row_heading level0 row5\" >K-nearest Neighbors(Improved)</th>\n",
       "                        <td id=\"T_c10829ba_ef71_11ea_9778_0242ac130202row5_col0\" class=\"data row5 col0\" >72.100000</td>\n",
       "                        <td id=\"T_c10829ba_ef71_11ea_9778_0242ac130202row5_col1\" class=\"data row5 col1\" >0.700000</td>\n",
       "            </tr>\n",
       "            <tr>\n",
       "                        <th id=\"T_c10829ba_ef71_11ea_9778_0242ac130202level0_row6\" class=\"row_heading level0 row6\" >K-nearest Neighbors</th>\n",
       "                        <td id=\"T_c10829ba_ef71_11ea_9778_0242ac130202row6_col0\" class=\"data row6 col0\" >69.570000</td>\n",
       "                        <td id=\"T_c10829ba_ef71_11ea_9778_0242ac130202row6_col1\" class=\"data row6 col1\" >0.690000</td>\n",
       "            </tr>\n",
       "            <tr>\n",
       "                        <th id=\"T_c10829ba_ef71_11ea_9778_0242ac130202level0_row7\" class=\"row_heading level0 row7\" >Random Forest</th>\n",
       "                        <td id=\"T_c10829ba_ef71_11ea_9778_0242ac130202row7_col0\" class=\"data row7 col0\" >69.500000</td>\n",
       "                        <td id=\"T_c10829ba_ef71_11ea_9778_0242ac130202row7_col1\" class=\"data row7 col1\" >0.690000</td>\n",
       "            </tr>\n",
       "            <tr>\n",
       "                        <th id=\"T_c10829ba_ef71_11ea_9778_0242ac130202level0_row8\" class=\"row_heading level0 row8\" >Decision Tree</th>\n",
       "                        <td id=\"T_c10829ba_ef71_11ea_9778_0242ac130202row8_col0\" class=\"data row8 col0\" >63.090000</td>\n",
       "                        <td id=\"T_c10829ba_ef71_11ea_9778_0242ac130202row8_col1\" class=\"data row8 col1\" >0.630000</td>\n",
       "            </tr>\n",
       "    </tbody></table>"
      ],
      "text/plain": [
       "<pandas.io.formats.style.Styler at 0x7f24c0561610>"
      ]
     },
     "execution_count": 38,
     "metadata": {},
     "output_type": "execute_result"
    }
   ],
   "source": [
    "results.loc['Random Forest(Improved)']= [100*np.round(accuracy_score(y_test,grid_pred),decimals=4),\n",
    "                         round(f1_score(y_test,grid_pred),2)]\n",
    "results.loc['Deep Neural Network']= [100*np.round(accuracy_score(y_test,dnn_pred),decimals=4),\n",
    "                         round(f1_score(y_test,dnn_pred),2)]\n",
    "results.sort_values(by='Accuracy in %',ascending=False).style.highlight_max()"
   ]
  }
 ],
 "metadata": {
  "colab": {
   "provenance": []
  },
  "kernelspec": {
   "display_name": "Python 3 (ipykernel)",
   "language": "python",
   "name": "python3"
  },
  "language_info": {
   "codemirror_mode": {
    "name": "ipython",
    "version": 3
   },
   "file_extension": ".py",
   "mimetype": "text/x-python",
   "name": "python",
   "nbconvert_exporter": "python",
   "pygments_lexer": "ipython3",
   "version": "3.9.13"
  },
  "papermill": {
   "duration": 1291.942522,
   "end_time": "2020-09-05T12:17:23.890800",
   "environment_variables": {},
   "exception": null,
   "input_path": "__notebook__.ipynb",
   "output_path": "__notebook__.ipynb",
   "parameters": {},
   "start_time": "2020-09-05T11:55:51.948278",
   "version": "2.1.0"
  }
 },
 "nbformat": 4,
 "nbformat_minor": 1
}
